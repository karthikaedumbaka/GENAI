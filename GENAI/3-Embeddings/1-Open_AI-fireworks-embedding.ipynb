{
 "cells": [
  {
   "cell_type": "markdown",
   "metadata": {},
   "source": [
    "#### Fireworks AI Embedding Techniques\n",
    "\n",
    "Converting text into vectors using Fireworks AI API\n"
   ]
  },
  {
   "cell_type": "code",
   "execution_count": null,
   "metadata": {},
   "outputs": [],
   "source": [
    "import os\n",
    "from dotenv import load_dotenv\n",
    "import requests\n",
    "import json\n",
    "\n",
    "# Load environment variables\n",
    "load_dotenv()"
   ]
  },
  {
   "cell_type": "code",
   "execution_count": null,
   "metadata": {},
   "outputs": [],
   "source": [
    "# Set up Fireworks API configuration\n",
    "FIREWORKS_API_KEY = os.getenv(\"FIREWORKS_API_KEY\")\n",
    "FIREWORKS_API_BASE = \"https://api.fireworks.ai/inference/v1\"\n",
    "\n",
    "print(f\"API Key loaded: {'Yes' if FIREWORKS_API_KEY else 'No'}\")\n",
    "print(f\"API Base URL: {FIREWORKS_API_BASE}\")"
   ]
  },
  {
   "cell_type": "code",
   "execution_count": null,
   "metadata": {},
   "outputs": [],
   "source": [
    "def get_fireworks_embedding(text, model=\"nomic-ai/nomic-embed-text-v1.5\"):\n",
    "    \"\"\"\n",
    "    Get embeddings from Fireworks AI API\n",
    "    \n",
    "    Args:\n",
    "        text (str): Text to embed\n",
    "        model (str): Model to use for embeddings\n",
    "    \n",
    "    Returns:\n",
    "        list: Embedding vector\n",
    "    \"\"\"\n",
    "    url = f\"{FIREWORKS_API_BASE}/embeddings\"\n",
    "    \n",
    "    headers = {\n",
    "        \"Authorization\": f\"Bearer {FIREWORKS_API_KEY}\",\n",
    "        \"Content-Type\": \"application/json\"\n",
    "    }\n",
    "    \n",
    "    payload = {\n",
    "        \"model\": model,\n",
    "        \"input\": text\n",
    "    }\n",
    "    \n",
    "    try:\n",
    "        response = requests.post(url, headers=headers, json=payload)\n",
    "        response.raise_for_status()\n",
    "        \n",
    "        result = response.json()\n",
    "        return result[\"data\"][0][\"embedding\"]\n",
    "    \n",
    "    except requests.exceptions.RequestException as e:\n",
    "        print(f\"Error making request: {e}\")\n",
    "        return None\n",
    "    except KeyError as e:\n",
    "        print(f\"Error parsing response: {e}\")\n",
    "        print(f\"Response: {response.text}\")\n",
    "        return None"
   ]
  },
  {
   "cell_type": "code",
   "execution_count": null,
   "metadata": {},
   "outputs": [],
   "source": [
    "# Generate embedding for \"hello world\"\n",
    "text = \"hello world\"\n",
    "print(f\"Generating embedding for: '{text}'\")\n",
    "\n",
    "embedding = get_fireworks_embedding(text)\n",
    "\n",
    "if embedding:\n",
    "    print(f\"\\nEmbedding generated successfully!\")\n",
    "    print(f\"Embedding dimensions: {len(embedding)}\")\n",
    "    print(f\"First 10 values: {embedding[:10]}\")\n",
    "    print(f\"Last 10 values: {embedding[-10:]}\")\n",
    "else:\n",
    "    print(\"Failed to generate embedding\")"
   ]
  },
  {
   "cell_type": "code",
   "execution_count": null,
   "metadata": {},
   "outputs": [],
   "source": [
    "# Alternative approach using LangChain with Fireworks (if supported)\n",
    "# Note: This might not work as Fireworks may not have direct LangChain integration for embeddings\n",
    "\n",
    "try:\n",
    "    from langchain_community.embeddings import FireworksEmbeddings\n",
    "    \n",
    "    # Initialize Fireworks embeddings\n",
    "    fireworks_embeddings = FireworksEmbeddings(\n",
    "        api_key=FIREWORKS_API_KEY,\n",
    "        model=\"nomic-ai/nomic-embed-text-v1.5\"\n",
    "    )\n",
    "    \n",
    "    # Generate embedding\n",
    "    langchain_embedding = fireworks_embeddings.embed_query(\"hello world\")\n",
    "    \n",
    "    print(f\"\\nLangChain Fireworks Embedding:\")\n",
    "    print(f\"Dimensions: {len(langchain_embedding)}\")\n",
    "    print(f\"First 10 values: {langchain_embedding[:10]}\")\n",
    "    \n",
    "except ImportError:\n",
    "    print(\"\\nLangChain Fireworks embeddings not available. Using direct API approach.\")\n",
    "except Exception as e:\n",
    "    print(f\"\\nError with LangChain approach: {e}\")"
   ]
  },
  {
   "cell_type": "code",
   "execution_count": null,
   "metadata": {},
   "outputs": [],
   "source": [
    "# Compare multiple texts\n",
    "texts = [\n",
    "    \"hello world\",\n",
    "    \"goodbye world\", \n",
    "    \"machine learning\",\n",
    "    \"artificial intelligence\"\n",
    "]\n",
    "\n",
    "print(\"Generating embeddings for multiple texts...\\n\")\n",
    "\n",
    "embeddings_dict = {}\n",
    "for text in texts:\n",
    "    embedding = get_fireworks_embedding(text)\n",
    "    if embedding:\n",
    "        embeddings_dict[text] = embedding\n",
    "        print(f\"✓ '{text}': {len(embedding)} dimensions\")\n",
    "    else:\n",
    "        print(f\"✗ Failed to get embedding for '{text}'\")\n",
    "\n",
    "print(f\"\\nSuccessfully generated {len(embeddings_dict)} embeddings\")"
   ]
  },
  {
   "cell_type": "code",
   "execution_count": null,
   "metadata": {},
   "outputs": [],
   "source": [
    "# Calculate similarity between embeddings (cosine similarity)\n",
    "import numpy as np\n",
    "from sklearn.metrics.pairwise import cosine_similarity\n",
    "\n",
    "if len(embeddings_dict) >= 2:\n",
    "    print(\"\\nCalculating cosine similarities:\")\n",
    "    \n",
    "    text_list = list(embeddings_dict.keys())\n",
    "    embedding_matrix = np.array(list(embeddings_dict.values()))\n",
    "    \n",
    "    # Calculate cosine similarity matrix\n",
    "    similarity_matrix = cosine_similarity(embedding_matrix)\n",
    "    \n",
    "    # Print similarity scores\n",
    "    for i, text1 in enumerate(text_list):\n",
    "        for j, text2 in enumerate(text_list):\n",
    "            if i < j:  # Only print upper triangle to avoid duplicates\n",
    "                similarity = similarity_matrix[i][j]\n",
    "                print(f\"'{text1}' vs '{text2}': {similarity:.4f}\")\n",
    "else:\n",
    "    print(\"\\nNeed at least 2 embeddings to calculate similarity\")"
   ]
  },
  {
   "cell_type": "code",
   "execution_count": null,
   "metadata": {},
   "outputs": [],
   "source": [
    "# Save embeddings to file (optional)\n",
    "import pickle\n",
    "\n",
    "if embeddings_dict:\n",
    "    # Save as pickle file\n",
    "    with open('fireworks_embeddings.pkl', 'wb') as f:\n",
    "        pickle.dump(embeddings_dict, f)\n",
    "    \n",
    "    # Save as JSON file\n",
    "    with open('fireworks_embeddings.json', 'w') as f:\n",
    "        json.dump(embeddings_dict, f, indent=2)\n",
    "    \n",
    "    print(\"\\nEmbeddings saved to:\")\n",
    "    print(\"- fireworks_embeddings.pkl\")\n",
    "    print(\"- fireworks_embeddings.json\")\n",
    "else:\n",
    "    print(\"\\nNo embeddings to save\")"
   ]
  }
 ],
 "metadata": {
  "kernelspec": {
   "display_name": "Python 3",
   "language": "python",
   "name": "python3"
  },
  "language_info": {
   "codemirror_mode": {
    "name": "ipython",
    "version": 3
   },
   "file_extension": ".py",
   "mimetype": "text/x-python",
   "name": "python",
   "nbconvert_exporter": "python",
   "pygments_lexer": "ipython3",
   "version": "3.8.0"
  }
 },
 "nbformat": 4,
 "nbformat_minor": 4
}